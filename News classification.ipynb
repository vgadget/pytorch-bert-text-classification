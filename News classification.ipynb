{
 "cells": [
  {
   "cell_type": "markdown",
   "id": "39c32106",
   "metadata": {},
   "source": [
    "# News classification"
   ]
  },
  {
   "cell_type": "markdown",
   "id": "fdc8facb",
   "metadata": {},
   "source": [
    "## Libraries"
   ]
  },
  {
   "cell_type": "code",
   "execution_count": null,
   "id": "66edccfc",
   "metadata": {},
   "outputs": [],
   "source": [
    "import os\n",
    "os.environ['CUDA_LAUNCH_BLOCKING'] = \"1\"\n",
    "\n",
    "import numpy as np\n",
    "import pandas as pd\n",
    "import matplotlib.pyplot as plt\n",
    "\n",
    "#MANAGEMENT PURPOSES ONLY-\n",
    "from tqdm import tqdm\n",
    "tqdm_disabled = False"
   ]
  },
  {
   "cell_type": "code",
   "execution_count": null,
   "id": "d9ef88c9",
   "metadata": {},
   "outputs": [],
   "source": [
    "import torch\n",
    "import torch.nn as nn\n",
    "import torch.nn.functional as F\n",
    "from torch.nn import CrossEntropyLoss\n",
    "from torch.nn.utils import clip_grad_norm_ as clip_grad_norm\n",
    "from torch.utils.data import Dataset, DataLoader\n",
    "from torch.optim import AdamW\n",
    "\n",
    "\n",
    "from transformers import BertModel as Model\n",
    "from transformers import BertTokenizer as Tokenizer\n",
    "from transformers import get_linear_schedule_with_warmup"
   ]
  },
  {
   "cell_type": "code",
   "execution_count": null,
   "id": "7409cb83",
   "metadata": {},
   "outputs": [],
   "source": [
    "# Set seed to ensure reproducibility\n",
    "SEED = 42\n",
    "np.random.seed(SEED)\n",
    "torch.manual_seed(SEED)"
   ]
  },
  {
   "cell_type": "code",
   "execution_count": null,
   "id": "7591117f",
   "metadata": {},
   "outputs": [],
   "source": [
    "# Set device to CUDA if available\n",
    "device = torch.device('cuda' if torch.cuda.is_available() else 'cpu')\n",
    "print('Device:')\n",
    "print(device)\n",
    "print(torch.version.cuda) "
   ]
  },
  {
   "cell_type": "code",
   "execution_count": null,
   "id": "90db28a7",
   "metadata": {},
   "outputs": [],
   "source": [
    "pre_trained_model = 'bert-base-uncased'\n",
    "finetuning = False"
   ]
  },
  {
   "cell_type": "markdown",
   "id": "461aabdd",
   "metadata": {},
   "source": [
    "## Hyperparameters"
   ]
  },
  {
   "cell_type": "code",
   "execution_count": null,
   "id": "474b870d",
   "metadata": {},
   "outputs": [],
   "source": [
    "BATCH_SIZE =32\n",
    "EPOCHS = 100\n",
    "LEARNING_RATE = 2e-5\n",
    "MAX_TOKEN_LENGTH = 100"
   ]
  },
  {
   "cell_type": "markdown",
   "id": "6cfaaf02",
   "metadata": {},
   "source": [
    "## Load data"
   ]
  },
  {
   "cell_type": "markdown",
   "id": "b774d162",
   "metadata": {},
   "source": [
    "Load train, test and dev data."
   ]
  },
  {
   "cell_type": "code",
   "execution_count": null,
   "id": "ffa3d3fb",
   "metadata": {},
   "outputs": [],
   "source": [
    "train = pd.read_csv('./data/train.csv', sep=',',header=None)\n",
    "test = pd.read_csv('./data/test.csv', sep=',',header=None)\n",
    "dev = pd.read_csv('./data/development.csv', sep=',',header=None)\n",
    "classes = pd.read_csv('./data/classes.csv', sep=',',header=None)"
   ]
  },
  {
   "cell_type": "code",
   "execution_count": null,
   "id": "3e39c4bb",
   "metadata": {},
   "outputs": [],
   "source": [
    "# Split sets into attributes and labels\n",
    "X_train = train[[1,2]].to_numpy()\n",
    "y_train = train[[0]].to_numpy().transpose().flatten()\n",
    "X_test = test[[1,2]].to_numpy()\n",
    "y_test = test[[0]].to_numpy().transpose().flatten()\n",
    "X_dev = dev[[1,2]].to_numpy()\n",
    "y_dev = dev[[0]].to_numpy().transpose().flatten()\n",
    "classes = classes.to_numpy()\n",
    "classes = {classes[i][0]:classes[i][1] for i in range(len(classes))}"
   ]
  },
  {
   "cell_type": "markdown",
   "id": "d8ecfbae",
   "metadata": {},
   "source": [
    "## Data pre-processing"
   ]
  },
  {
   "cell_type": "code",
   "execution_count": null,
   "id": "d61828b6",
   "metadata": {},
   "outputs": [],
   "source": [
    "# Define a tokenizer function\n",
    "tokenizer = Tokenizer.from_pretrained(pre_trained_model, do_lower_case=False)"
   ]
  },
  {
   "cell_type": "code",
   "execution_count": null,
   "id": "a892e552",
   "metadata": {},
   "outputs": [],
   "source": [
    "def get_encoding(text, max_length, truncation=True):\n",
    "    return tokenizer.encode_plus(\n",
    "            text, \n",
    "            max_length=max_length, \n",
    "            add_special_tokens=True,\n",
    "            return_token_type_ids=False, \n",
    "            padding='max_length', \n",
    "            truncation=truncation,\n",
    "            return_attention_mask=True, \n",
    "            return_tensors='pt')"
   ]
  },
  {
   "cell_type": "markdown",
   "id": "b811f69e",
   "metadata": {},
   "source": [
    "## Dataset class"
   ]
  },
  {
   "cell_type": "code",
   "execution_count": null,
   "id": "939c62fa",
   "metadata": {},
   "outputs": [],
   "source": [
    "# Let's define a dataset class in order to use it in our pytorch model\n",
    "\n",
    "class NewsClassifierDataset(Dataset):\n",
    "\n",
    "    def __init__(self, X, y):\n",
    "        self.X = X\n",
    "        self.y = y\n",
    "\n",
    "    def __len__(self):\n",
    "        return len(self.X)\n",
    "    \n",
    "    def __getitem__(self, i):\n",
    "        x = self.X[i][0]+' '+self.X[i][1]\n",
    "        y = self.y[i]\n",
    "            \n",
    "        encoding = get_encoding(x, MAX_TOKEN_LENGTH, truncation=True)\n",
    "        \n",
    "        return {\n",
    "            'X': x, \n",
    "            'y': torch.tensor(y, dtype=torch.long),\n",
    "            'input_ids': encoding['input_ids'].flatten(),\n",
    "            'attention_mask': encoding['attention_mask'].flatten()\n",
    "        }"
   ]
  },
  {
   "cell_type": "code",
   "execution_count": null,
   "id": "d811f4d3",
   "metadata": {},
   "outputs": [],
   "source": [
    "num_workers = 0\n",
    "\n",
    "train_data_loader = DataLoader(\n",
    "    NewsClassifierDataset(X_train, y_train),\n",
    "    batch_size=BATCH_SIZE,\n",
    "    num_workers=num_workers\n",
    ")\n",
    "\n",
    "development_data_loader = DataLoader(\n",
    "    NewsClassifierDataset(X_dev, y_dev),\n",
    "    batch_size=BATCH_SIZE,\n",
    "    num_workers=num_workers\n",
    ")\n",
    "\n",
    "test_data_loader = DataLoader(\n",
    "    NewsClassifierDataset(X_test, y_test),\n",
    "    batch_size=BATCH_SIZE,\n",
    "    num_workers=num_workers\n",
    ")"
   ]
  },
  {
   "cell_type": "markdown",
   "id": "26a09045",
   "metadata": {},
   "source": [
    "## Model"
   ]
  },
  {
   "cell_type": "code",
   "execution_count": null,
   "id": "f6f56a28",
   "metadata": {},
   "outputs": [],
   "source": [
    "class NewsClassifierModel(nn.Module):\n",
    "\n",
    "    def __init__(self, n_classes):\n",
    "        super(NewsClassifierModel, self).__init__()\n",
    "        self.bert = Model.from_pretrained(pre_trained_model)\n",
    "        self.drop = nn.Dropout(p=0.40)\n",
    "        self.out = nn.Linear(self.bert.config.hidden_size, n_classes)\n",
    "        self.frezzed_bert = False\n",
    "        \n",
    "    def forward(self, input_ids, attention_mask, freeze_bert=True):\n",
    "        \n",
    "        \n",
    "        # Turn on/off the BERT layers\n",
    "        # Useefull for finetuning\n",
    "\n",
    "        # Freeze BERT layers if freeze_bert is True and not previously frozen\n",
    "        if freeze_bert and not self.frezzed_bert:\n",
    "            for param in self.bert.parameters():\n",
    "                param.requires_grad = False\n",
    "            self.frezzed_bert = True\n",
    "        \n",
    "        # Unfreeze BERT layers if freeze_bert is False and previously frozen\n",
    "        elif not freeze_bert and self.frezzed_bert:\n",
    "            for param in self.bert.parameters():\n",
    "                param.requires_grad = True\n",
    "            self.frezzed_bert = False\n",
    "        \n",
    "\n",
    "        o = self.bert(\n",
    "            input_ids = input_ids,\n",
    "            attention_mask = attention_mask\n",
    "        )\n",
    "        \n",
    "        output = self.drop(o.get('pooler_output'))\n",
    "        output = self.out(output)\n",
    "        output = F.softmax(output, dim=1)\n",
    "        \n",
    "        return output"
   ]
  },
  {
   "cell_type": "code",
   "execution_count": null,
   "id": "d998181e",
   "metadata": {},
   "outputs": [],
   "source": [
    "model = NewsClassifierModel(len(classes))\n",
    "model = model.to(device)"
   ]
  },
  {
   "cell_type": "code",
   "execution_count": null,
   "id": "58cf8d4a",
   "metadata": {},
   "outputs": [],
   "source": [
    "# If model checkpoint is available, load it\n",
    "if os.path.exists('./checkpoint.bin'):\n",
    "    model.load_state_dict(torch.load('./checkpoint.bin'))"
   ]
  },
  {
   "cell_type": "markdown",
   "id": "aa9f0e22",
   "metadata": {},
   "source": [
    "## Training"
   ]
  },
  {
   "cell_type": "code",
   "execution_count": null,
   "id": "943397c1",
   "metadata": {},
   "outputs": [],
   "source": [
    "optimizer = AdamW(model.parameters(), lr=LEARNING_RATE)\n",
    "loss_fn = CrossEntropyLoss().to(device)"
   ]
  },
  {
   "cell_type": "code",
   "execution_count": null,
   "id": "ea57e596",
   "metadata": {},
   "outputs": [],
   "source": [
    "def criterion(output, target):\n",
    "\n",
    "    y_true = torch.zeros_like(output)\n",
    "    \n",
    "    for i in range(len(target)):\n",
    "        y_true[i][target[i].item()-1] = 1\n",
    "\n",
    "    return loss_fn(output, y_true)"
   ]
  },
  {
   "cell_type": "code",
   "execution_count": null,
   "id": "d7a75f27",
   "metadata": {},
   "outputs": [],
   "source": [
    "scheduler = get_linear_schedule_with_warmup(\n",
    "    optimizer, \n",
    "    num_warmup_steps=0,\n",
    "    num_training_steps = (len(train_data_loader) * EPOCHS)\n",
    ")"
   ]
  },
  {
   "cell_type": "code",
   "execution_count": null,
   "id": "28c2baaf",
   "metadata": {},
   "outputs": [],
   "source": [
    "def eval(model, data_loader):\n",
    "    \n",
    "    n_correct = 0\n",
    "    n_samples = 0\n",
    "    loss = 0\n",
    "\n",
    "    model = model.eval()\n",
    "\n",
    "    with torch.no_grad():\n",
    "        for sample in data_loader:\n",
    "            input_ids = sample['input_ids'].to(device)\n",
    "            attention_mask = sample['attention_mask'].to(device)\n",
    "            targets = sample['y'].to(device)\n",
    "\n",
    "            output = model(input_ids = input_ids, attention_mask = attention_mask)\n",
    "            \n",
    "            _, predicted = torch.max(output, dim=1)\n",
    "            predicted += torch.ones_like(predicted)\n",
    "            \n",
    "            loss = criterion(output, targets)\n",
    "            n_correct += torch.sum(predicted == targets)\n",
    "            n_samples += len(targets)\n",
    "\n",
    "        accuracy = 100 * (n_correct.double() / n_samples)\n",
    "\n",
    "    return accuracy, loss"
   ]
  },
  {
   "cell_type": "code",
   "execution_count": null,
   "id": "d723132e",
   "metadata": {},
   "outputs": [],
   "source": [
    "def epoch_step(model, freeze_bert=False):\n",
    "\n",
    "    epoch_loss = []\n",
    "    n_correct = 0\n",
    "    n_samples = 0\n",
    "\n",
    "    model = model.train()\n",
    "\n",
    "    for sample in tqdm(train_data_loader, desc='Training...', disable=tqdm_disabled):\n",
    "       \n",
    "        optimizer.zero_grad()\n",
    "        \n",
    "        input_ids = sample['input_ids'].to(device)\n",
    "        attention_mask = sample['attention_mask'].to(device)\n",
    "        targets = sample['y'].to(device)\n",
    "\n",
    "        output = model(input_ids = input_ids, attention_mask = attention_mask, freeze_bert=freeze_bert)\n",
    "        \n",
    "        _, predicted = torch.max(output, dim=1)\n",
    "        predicted += torch.ones_like(predicted)\n",
    "\n",
    "        loss = criterion(output, targets)\n",
    "\n",
    "        epoch_loss.append(loss.item())\n",
    "\n",
    "        n_correct += torch.sum(predicted == targets)\n",
    "        n_samples += len(targets)\n",
    "\n",
    "        loss.backward()\n",
    "\n",
    "        \"\"\"\n",
    "        Gradient clipping\n",
    "        clip_grad_norm() performs gradient clipping. \n",
    "        It is used to mitigate the problem of exploding gradients, \n",
    "        \"\"\"\n",
    "        clip_grad_norm(model.parameters(), max_norm = 1.0)\n",
    "\n",
    "        optimizer.step()\n",
    "        scheduler.step()\n",
    "\n",
    "\n",
    "    accuracy = 100 * (n_correct.double() / n_samples)\n",
    "    return accuracy, np.mean(epoch_loss)"
   ]
  },
  {
   "cell_type": "markdown",
   "id": "abfcc103",
   "metadata": {},
   "source": [
    "### Training model with BERT model weights frozen"
   ]
  },
  {
   "cell_type": "code",
   "execution_count": null,
   "id": "9b64411b",
   "metadata": {},
   "outputs": [],
   "source": [
    "train_history = []\n",
    "dev_history = []\n",
    "best_dev_accuracy = -1\n",
    "for epoch in tqdm(range(EPOCHS), desc=\"Epochs\", disable=tqdm_disabled):\n",
    "\n",
    "    print(f\"Training... {epoch+1}/{EPOCHS}\")\n",
    "\n",
    "    epoch_step(model, freeze_bert=(not finetuning))\n",
    "\n",
    "    accuracy, loss = eval(model, train_data_loader)\n",
    "    dev_acuracy, dev_loss = eval(model, development_data_loader)\n",
    "    \n",
    "    train_history.append((epoch+1, accuracy, loss))\n",
    "    dev_history.append((epoch+1, dev_acuracy, dev_loss))\n",
    "\n",
    "    print(f\"Epoch: {epoch+1}/{EPOCHS}, Loss: {loss:.4f}, Train accuracy: {accuracy:.4f}%, Dev accuracy:{dev_acuracy:.4f}%\")\n",
    "    if dev_acuracy > best_dev_accuracy:\n",
    "        torch.save(model.state_dict(), 'checkpoint.bin')\n",
    "        best_accuracy = dev_acuracy"
   ]
  },
  {
   "cell_type": "code",
   "execution_count": null,
   "id": "7e672971",
   "metadata": {},
   "outputs": [],
   "source": [
    "## Plot the training history\n",
    "plt.plot(train_history, label=\"Train\")\n",
    "plt.plot(dev_history, label=\"Dev\")\n",
    "plt.title(pre_trained_model)\n",
    "plt.ylabel('accuracy')\n",
    "plt.xlabel('epoch')\n",
    "plt.legend(labels=['Train', 'Dev'], loc='upper left')\n",
    "plt.show()"
   ]
  },
  {
   "cell_type": "markdown",
   "id": "0a3afe82",
   "metadata": {},
   "source": [
    "### Finetuning"
   ]
  },
  {
   "cell_type": "code",
   "execution_count": null,
   "id": "fa5e780b",
   "metadata": {},
   "outputs": [],
   "source": [
    "finetuning = True"
   ]
  },
  {
   "cell_type": "code",
   "execution_count": null,
   "id": "59f20925",
   "metadata": {},
   "outputs": [],
   "source": [
    "train_history = []\n",
    "dev_history = []\n",
    "best_dev_accuracy = -1\n",
    "for epoch in tqdm(range(EPOCHS), desc=\"Epochs\", disable=tqdm_disabled):\n",
    "\n",
    "    print(f\"Training... {epoch+1}/{EPOCHS}\")\n",
    "\n",
    "    epoch_step(model, freeze_bert=(not finetuning))\n",
    "\n",
    "    accuracy, loss = eval(model, train_data_loader)\n",
    "    dev_acuracy, dev_loss = eval(model, development_data_loader)\n",
    "    \n",
    "    train_history.append((epoch+1, accuracy, loss))\n",
    "    dev_history.append((epoch+1, dev_acuracy, dev_loss))\n",
    "\n",
    "    print(f\"Epoch: {epoch+1}/{EPOCHS}, Loss: {loss:.4f}, Train accuracy: {accuracy:.4f}%, Dev accuracy:{dev_acuracy:.4f}%\")\n",
    "    if dev_acuracy > best_dev_accuracy:\n",
    "        torch.save(model.state_dict(), 'checkpoint.bin')\n",
    "        best_accuracy = dev_acuracy"
   ]
  },
  {
   "cell_type": "code",
   "execution_count": null,
   "id": "b77128db",
   "metadata": {},
   "outputs": [],
   "source": [
    "## Plot the training history\n",
    "plt.plot(train_history, label=\"Train\")\n",
    "plt.plot(dev_history, label=\"Dev\")\n",
    "plt.title(pre_trained_model)\n",
    "plt.ylabel('accuracy')\n",
    "plt.xlabel('epoch')\n",
    "plt.legend(labels=['Train', 'Dev'], loc='upper left')\n",
    "plt.show()"
   ]
  },
  {
   "cell_type": "markdown",
   "id": "a9f64a95",
   "metadata": {},
   "source": [
    "## Test "
   ]
  },
  {
   "cell_type": "code",
   "execution_count": null,
   "id": "4c0a05d6",
   "metadata": {},
   "outputs": [],
   "source": [
    "# Evaluate model on test set\n",
    "test_acuracy, test_loss = eval(model, test_data_loader)\n",
    "print(f\"Loss: {test_loss:.4f},  Accuracy: {test_acuracy:.4f}%\")"
   ]
  }
 ],
 "metadata": {
  "kernelspec": {
   "display_name": "Python 3.9.7 ('tensorflow')",
   "language": "python",
   "name": "python3"
  },
  "language_info": {
   "codemirror_mode": {
    "name": "ipython",
    "version": 3
   },
   "file_extension": ".py",
   "mimetype": "text/x-python",
   "name": "python",
   "nbconvert_exporter": "python",
   "pygments_lexer": "ipython3",
   "version": "3.9.7"
  },
  "vscode": {
   "interpreter": {
    "hash": "4bd624a0593993fe43ac4046b27b898fb2ef75c21c08f81e89e64ea0f51df676"
   }
  }
 },
 "nbformat": 4,
 "nbformat_minor": 5
}
